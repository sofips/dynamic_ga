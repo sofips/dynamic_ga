{
 "cells": [
  {
   "cell_type": "code",
   "execution_count": 1,
   "metadata": {},
   "outputs": [],
   "source": [
    "import numpy as np\n",
    "import torch as T\n",
    "from dgamod import *"
   ]
  },
  {
   "cell_type": "code",
   "execution_count": 2,
   "metadata": {},
   "outputs": [
    {
     "name": "stdout",
     "output_type": "stream",
     "text": [
      "[[13 11 11 14 13  9  1  2  7 13  8  5 13 13  7 13 12 13  9  5  3  5  9 10\n",
      "   9 12  8 12  2 10  4  4  8  5  3  1 15 10  0 10  1 14  8  9 12  1 14  1\n",
      "   6  9]]\n",
      "Eigenstate Propagation: correct\n"
     ]
    }
   ],
   "source": [
    "n = 10\n",
    "iterations = 1 \n",
    "dt = 0.15\n",
    "tolerance = 0.95\n",
    "reward_decay = 0.95\n",
    "action_sequences = np.random.randint(low=0, high=16, size=[iterations,50])\n",
    "actions = actions_zhang(100,n)\n",
    "print(action_sequences)\n",
    "props = gen_props(actions,n,dt,test=True)"
   ]
  },
  {
   "cell_type": "code",
   "execution_count": 3,
   "metadata": {},
   "outputs": [
    {
     "name": "stdout",
     "output_type": "stream",
     "text": [
      "tensor([[0.0000e+00, 8.7773e-28, 2.4445e-22, 1.6383e-19, 2.0417e-16, 1.3348e-15,\n",
      "         9.6854e-16, 2.0866e-12, 7.5405e-11, 8.9774e-10, 3.9110e-09, 9.8625e-09,\n",
      "         2.5642e-08, 5.3890e-08, 8.9484e-08, 2.9545e-07, 9.8003e-07, 9.3714e-07,\n",
      "         1.8094e-07, 1.7162e-07, 1.5444e-06, 7.9423e-06, 3.0003e-05, 3.3493e-05,\n",
      "         3.0219e-05, 2.9747e-05, 3.2078e-05, 2.4028e-05, 2.1229e-05, 1.4468e-05,\n",
      "         1.3907e-05, 3.8116e-05, 8.8664e-05, 1.6474e-04, 2.2087e-04, 2.0843e-04,\n",
      "         1.4851e-04, 1.2920e-04, 1.0780e-04, 3.6164e-05, 6.2256e-05, 3.8918e-04,\n",
      "         1.4969e-03, 3.4245e-03, 3.4803e-03, 3.5426e-03, 5.8768e-03, 7.9456e-03,\n",
      "         9.3513e-03, 9.9533e-03, 9.8873e-03]], device='cuda:0',\n",
      "       dtype=torch.float64)\n",
      "tensor([0.0521], device='cuda:0', dtype=torch.float64)\n"
     ]
    },
    {
     "data": {
      "text/plain": [
       "array([0.05214316])"
      ]
     },
     "execution_count": 3,
     "metadata": {},
     "output_type": "execute_result"
    }
   ],
   "source": [
    "reward_based_fitness_gpu(action_sequences, props, tolerance, reward_decay)"
   ]
  },
  {
   "cell_type": "code",
   "execution_count": 4,
   "metadata": {},
   "outputs": [
    {
     "name": "stdout",
     "output_type": "stream",
     "text": [
      "0.00995331544754617\n"
     ]
    }
   ],
   "source": [
    "print(fidelity(action_sequences[0,:], props))"
   ]
  },
  {
   "cell_type": "code",
   "execution_count": 5,
   "metadata": {},
   "outputs": [
    {
     "name": "stdout",
     "output_type": "stream",
     "text": [
      "0.05214315702794536\n"
     ]
    }
   ],
   "source": [
    "print(reward_based_fitness(action_sequences[0,:], props, tolerance, reward_decay))"
   ]
  },
  {
   "cell_type": "code",
   "execution_count": null,
   "metadata": {},
   "outputs": [],
   "source": []
  }
 ],
 "metadata": {
  "kernelspec": {
   "display_name": "cudadrl",
   "language": "python",
   "name": "python3"
  },
  "language_info": {
   "codemirror_mode": {
    "name": "ipython",
    "version": 3
   },
   "file_extension": ".py",
   "mimetype": "text/x-python",
   "name": "python",
   "nbconvert_exporter": "python",
   "pygments_lexer": "ipython3",
   "version": "3.9.19"
  }
 },
 "nbformat": 4,
 "nbformat_minor": 2
}
